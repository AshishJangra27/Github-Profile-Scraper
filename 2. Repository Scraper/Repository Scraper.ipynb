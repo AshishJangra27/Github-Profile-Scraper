{
 "cells": [
  {
   "cell_type": "code",
   "execution_count": 266,
   "id": "6ce2c7b0",
   "metadata": {},
   "outputs": [],
   "source": [
    "import json\n",
    "import requests\n",
    "import numpy as np\n",
    "from bs4 import BeautifulSoup"
   ]
  },
  {
   "cell_type": "markdown",
   "id": "71183012",
   "metadata": {},
   "source": [
    "### 1. Scraping Number of Repositories and Stars"
   ]
  },
  {
   "cell_type": "code",
   "execution_count": 278,
   "id": "db9b70ca",
   "metadata": {},
   "outputs": [],
   "source": [
    "link = 'https://github.com/AshishJangra27'\n",
    "res = requests.get(link)\n",
    "soup = BeautifulSoup(res.text, 'html.parser')\n",
    "try:\n",
    "    sp = soup.find('nav', class_ = 'UnderlineNav-body width-full p-responsive').find_all('a')\n",
    "    for i in sp:\n",
    "        txt = i.text.replace('\\n','').replace(' ','')\n",
    "        if ('Repositories' in txt):\n",
    "            repo =  int(txt[12:])   \n",
    "        elif ('Stars' in txt):\n",
    "            strs =  int(txt[5:])\n",
    "except:\n",
    "    repo = 0\n",
    "    strs = 0"
   ]
  },
  {
   "cell_type": "markdown",
   "id": "7d6053d9",
   "metadata": {},
   "source": [
    "### 2. Number of Pages Required"
   ]
  },
  {
   "cell_type": "code",
   "execution_count": 279,
   "id": "b3057b64",
   "metadata": {},
   "outputs": [
    {
     "data": {
      "text/plain": [
       "2"
      ]
     },
     "execution_count": 279,
     "metadata": {},
     "output_type": "execute_result"
    }
   ],
   "source": [
    "pages = int(repo/30)        # Pages with 30 repositories\n",
    "\n",
    "if (repo % 30 != 0):\n",
    "    pages += 1"
   ]
  },
  {
   "cell_type": "markdown",
   "id": "20a41a22",
   "metadata": {},
   "source": [
    "### 3. Scraping Repository data from Multiple Pages"
   ]
  },
  {
   "cell_type": "code",
   "execution_count": 280,
   "id": "0d313f40",
   "metadata": {},
   "outputs": [],
   "source": [
    "repository = {}\n",
    "\n",
    "for page in range(1,pages+1):\n",
    "    \n",
    "    res = requests.get(link + '?page=' + str(page) + '&tab=repositories')\n",
    "    soup = BeautifulSoup(res.text, 'html.parser')\n",
    "\n",
    "    for r in soup.find('div', id = 'user-repositories-list').find_all('li'):\n",
    "        try:\n",
    "            title = r.find('h3').find('a').text.replace('\\n','').strip()\n",
    "        except:\n",
    "            title = np.nan\n",
    "        try:\n",
    "            licence   = r.find_all('span', class_ = 'mr-3')[-1].text.strip()    \n",
    "        except:\n",
    "            licence   = 'Unlicenced'\n",
    "        try:\n",
    "            strs      = r.find('a', class_ = 'Link--muted mr-3').text.strip()\n",
    "        except:\n",
    "            strs      = 0\n",
    "        try:\n",
    "            language  = r.find('span', itemprop = 'programmingLanguage').text\n",
    "        except:\n",
    "            language  = np.nan\n",
    "        try:\n",
    "            des       = r.find('p').text.strip()\n",
    "        except:\n",
    "            des       = 'Not available'   \n",
    "        try:\n",
    "            repo_link = 'https://github.com' + r.find('a').get('href')\n",
    "        except:\n",
    "            repo_link = np.nan\n",
    "            \n",
    "        \n",
    "        repository[title] = {'repo_link' : repo_link, 'licence' : licence, 'stars' : strs, \n",
    "                             'description' : des, 'language' : language}"
   ]
  },
  {
   "cell_type": "code",
   "execution_count": 285,
   "id": "6cab39fe",
   "metadata": {},
   "outputs": [
    {
     "data": {
      "text/plain": [
       "48"
      ]
     },
     "execution_count": 285,
     "metadata": {},
     "output_type": "execute_result"
    }
   ],
   "source": [
    "len(repository)"
   ]
  },
  {
   "cell_type": "code",
   "execution_count": null,
   "id": "ad1b5bba",
   "metadata": {},
   "outputs": [],
   "source": []
  },
  {
   "cell_type": "code",
   "execution_count": null,
   "id": "6eb05ea2",
   "metadata": {},
   "outputs": [],
   "source": []
  },
  {
   "cell_type": "code",
   "execution_count": null,
   "id": "200b5abe",
   "metadata": {},
   "outputs": [],
   "source": []
  },
  {
   "cell_type": "code",
   "execution_count": null,
   "id": "53e98d3b",
   "metadata": {},
   "outputs": [],
   "source": []
  },
  {
   "cell_type": "code",
   "execution_count": null,
   "id": "e787e08d",
   "metadata": {},
   "outputs": [],
   "source": []
  },
  {
   "cell_type": "code",
   "execution_count": null,
   "id": "3a840a52",
   "metadata": {},
   "outputs": [],
   "source": []
  },
  {
   "cell_type": "code",
   "execution_count": null,
   "id": "8a7a8a0a",
   "metadata": {},
   "outputs": [],
   "source": []
  },
  {
   "cell_type": "code",
   "execution_count": null,
   "id": "5b6a531a",
   "metadata": {},
   "outputs": [],
   "source": []
  },
  {
   "cell_type": "code",
   "execution_count": null,
   "id": "ae0c3bce",
   "metadata": {},
   "outputs": [],
   "source": []
  },
  {
   "cell_type": "code",
   "execution_count": null,
   "id": "2aaef1f7",
   "metadata": {},
   "outputs": [],
   "source": []
  },
  {
   "cell_type": "code",
   "execution_count": null,
   "id": "6df93d0c",
   "metadata": {},
   "outputs": [],
   "source": []
  },
  {
   "cell_type": "code",
   "execution_count": null,
   "id": "4c211266",
   "metadata": {},
   "outputs": [],
   "source": []
  },
  {
   "cell_type": "code",
   "execution_count": 155,
   "id": "103a46b2",
   "metadata": {},
   "outputs": [],
   "source": [
    "try:\n",
    "    img_link   = soup.find('img', style = 'height:auto;').get('src').split('?')[0]\n",
    "except:\n",
    "    img_link   = 'Not Available'\n",
    "    \n",
    "try:\n",
    "    name       = soup.find('h1').find_all('span')[0].text.strip()\n",
    "except:\n",
    "    name       = 'Not Available'\n",
    "    \n",
    "try:\n",
    "    user_id    = soup.find('h1').find_all('span')[1].text.strip()\n",
    "except:\n",
    "    user_id    = 'Not Available'\n",
    "    \n",
    "try:\n",
    "    bio        = soup.find('div',class_ = 'p-note user-profile-bio mb-3 js-user-profile-bio f4').text.strip().replace('\\n','')\n",
    "except:\n",
    "    bio        = 'Not Available'\n",
    "\n",
    "try:\n",
    "    sp         = soup.find_all('a', class_ = 'Link--secondary no-underline no-wrap')\n",
    "    followers  = int(sp[0].text.replace('\\n','').replace(' ','')[:-9])\n",
    "    following  = int(sp[1].text.replace('\\n','').replace(' ','')[:-9])\n",
    "except:\n",
    "    followers  = 'Not Available'\n",
    "    following  = 'Not Available'\n",
    "    \n",
    "try:\n",
    "    location   = soup.find('span',class_ = 'p-label').text.strip()\n",
    "except:\n",
    "    location   = 'Not Available'\n",
    "\n",
    "try:\n",
    "    sp = soup.find('nav', class_ = 'UnderlineNav-body width-full p-responsive').find_all('a')\n",
    "    for i in sp:\n",
    "        txt = i.text.replace('\\n','').replace(' ','')\n",
    "        if ('Repositories' in txt):\n",
    "            repo =  int(txt[12:])   \n",
    "        elif ('Projects' in txt):\n",
    "            proj =  int(txt[8:])\n",
    "        elif ('Packages' in txt):\n",
    "            pkgs =  int(txt[8:])\n",
    "        elif ('Stars' in txt):\n",
    "            strs =  int(txt[5:])\n",
    "except:\n",
    "    repo = 0\n",
    "    proj = 0\n",
    "    pkgs = 0\n",
    "    strs = 0"
   ]
  },
  {
   "cell_type": "code",
   "execution_count": 157,
   "id": "25bbdce7",
   "metadata": {},
   "outputs": [],
   "source": [
    "dct = {}\n",
    "\n",
    "dct['name']      = name\n",
    "dct['user_id']   = user_id\n",
    "dct['bio']       = bio\n",
    "dct['location']  = location\n",
    "\n",
    "dct['followers'] = followers\n",
    "dct['following'] = following\n",
    "\n",
    "dct['repo']      = repo\n",
    "dct['proj']      = proj\n",
    "dct['pkgs']      = pkgs\n",
    "dct['strs']      = strs\n",
    "\n",
    "dct['link']      = link\n",
    "dct['img_link']  = img_link"
   ]
  }
 ],
 "metadata": {
  "kernelspec": {
   "display_name": "Python 3 (ipykernel)",
   "language": "python",
   "name": "python3"
  },
  "language_info": {
   "codemirror_mode": {
    "name": "ipython",
    "version": 3
   },
   "file_extension": ".py",
   "mimetype": "text/x-python",
   "name": "python",
   "nbconvert_exporter": "python",
   "pygments_lexer": "ipython3",
   "version": "3.9.7"
  }
 },
 "nbformat": 4,
 "nbformat_minor": 5
}
